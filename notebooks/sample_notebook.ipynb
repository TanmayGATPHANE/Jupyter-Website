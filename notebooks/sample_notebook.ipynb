{
 "cells": [
  {
   "cell_type": "markdown",
   "id": "4be2f055",
   "metadata": {},
   "source": [
    "# Welcome to Jupyter Web Interface\n",
    "\n",
    "This is a sample notebook to demonstrate the features of our web-based Jupyter interface.\n",
    "\n",
    "## Features:\n",
    "- **Code Execution**: Run Python code cells\n",
    "- **Markdown Support**: Rich text formatting\n",
    "- **Cell Management**: Add, delete, move cells\n",
    "- **Export/Import**: Save and load notebooks\n",
    "- **Keyboard Shortcuts**: Efficient navigation"
   ]
  },
  {
   "cell_type": "code",
   "execution_count": null,
   "id": "f2e4cb85",
   "metadata": {},
   "outputs": [],
   "source": [
    "# Let's start with a simple Python example\n",
    "print(\"Hello, Jupyter Web!\")\n",
    "print(\"This is a Python code cell\")\n",
    "\n",
    "# Basic calculations\n",
    "x = 10\n",
    "y = 20\n",
    "result = x + y\n",
    "print(f\"The sum of {x} and {y} is {result}\")"
   ]
  },
  {
   "cell_type": "markdown",
   "id": "f0ed5b47",
   "metadata": {},
   "source": [
    "## Data Analysis Example\n",
    "\n",
    "Let's create some sample data and perform basic analysis:"
   ]
  },
  {
   "cell_type": "code",
   "execution_count": null,
   "id": "19f9289b",
   "metadata": {},
   "outputs": [],
   "source": [
    "# Import libraries (simulated)\n",
    "import random\n",
    "\n",
    "# Generate sample data\n",
    "data = [random.randint(1, 100) for _ in range(10)]\n",
    "print(\"Sample data:\", data)\n",
    "\n",
    "# Basic statistics\n",
    "print(f\"Mean: {sum(data) / len(data):.2f}\")\n",
    "print(f\"Min: {min(data)}\")\n",
    "print(f\"Max: {max(data)}\")\n",
    "print(f\"Count: {len(data)}\")"
   ]
  },
  {
   "cell_type": "markdown",
   "id": "ab7cb1c2",
   "metadata": {},
   "source": [
    "## List Comprehensions and Functions\n",
    "\n",
    "Python's powerful features in action:"
   ]
  },
  {
   "cell_type": "code",
   "execution_count": null,
   "id": "215dc535",
   "metadata": {},
   "outputs": [],
   "source": [
    "# List comprehension example\n",
    "squares = [x**2 for x in range(1, 11)]\n",
    "print(\"Squares of 1-10:\", squares)\n",
    "\n",
    "# Filter even numbers\n",
    "evens = [x for x in squares if x % 2 == 0]\n",
    "print(\"Even squares:\", evens)\n",
    "\n",
    "# Function definition\n",
    "def fibonacci(n):\n",
    "    \"\"\"Generate Fibonacci sequence up to n terms\"\"\"\n",
    "    if n <= 0:\n",
    "        return []\n",
    "    elif n == 1:\n",
    "        return [0]\n",
    "    elif n == 2:\n",
    "        return [0, 1]\n",
    "    \n",
    "    fib = [0, 1]\n",
    "    for i in range(2, n):\n",
    "        fib.append(fib[i-1] + fib[i-2])\n",
    "    return fib\n",
    "\n",
    "# Generate Fibonacci sequence\n",
    "fib_sequence = fibonacci(10)\n",
    "print(\"Fibonacci sequence (10 terms):\", fib_sequence)"
   ]
  },
  {
   "cell_type": "markdown",
   "id": "b7a2f75d",
   "metadata": {},
   "source": [
    "## Dictionary and JSON Operations\n",
    "\n",
    "Working with structured data:"
   ]
  },
  {
   "cell_type": "code",
   "execution_count": null,
   "id": "043e06eb",
   "metadata": {},
   "outputs": [],
   "source": [
    "# Create a sample dataset\n",
    "students = {\n",
    "    \"Alice\": {\"age\": 20, \"grades\": [85, 92, 78, 96]},\n",
    "    \"Bob\": {\"age\": 21, \"grades\": [79, 85, 88, 92]},\n",
    "    \"Charlie\": {\"age\": 19, \"grades\": [92, 88, 94, 89]},\n",
    "    \"Diana\": {\"age\": 22, \"grades\": [88, 91, 87, 93]}\n",
    "}\n",
    "\n",
    "# Calculate average grades\n",
    "for name, data in students.items():\n",
    "    avg_grade = sum(data[\"grades\"]) / len(data[\"grades\"])\n",
    "    print(f\"{name} (age {data['age']}): Average grade = {avg_grade:.1f}\")\n",
    "\n",
    "# Find top performer\n",
    "top_student = max(students.items(), \n",
    "                  key=lambda x: sum(x[1][\"grades\"]) / len(x[1][\"grades\"]))\n",
    "print(f\"\\nTop performer: {top_student[0]}\")"
   ]
  },
  {
   "cell_type": "markdown",
   "id": "b7d29a58",
   "metadata": {},
   "source": [
    "## Error Handling and Best Practices\n",
    "\n",
    "Demonstrating proper error handling:"
   ]
  },
  {
   "cell_type": "code",
   "execution_count": null,
   "id": "e0d45bed",
   "metadata": {},
   "outputs": [],
   "source": [
    "def safe_divide(a, b):\n",
    "    \"\"\"Safely divide two numbers with error handling\"\"\"\n",
    "    try:\n",
    "        result = a / b\n",
    "        return f\"{a} / {b} = {result}\"\n",
    "    except ZeroDivisionError:\n",
    "        return f\"Error: Cannot divide {a} by zero\"\n",
    "    except TypeError:\n",
    "        return f\"Error: Invalid types for division\"\n",
    "\n",
    "# Test the function\n",
    "test_cases = [(10, 2), (15, 0), (20, 4), (\"text\", 5)]\n",
    "\n",
    "for a, b in test_cases:\n",
    "    print(safe_divide(a, b))"
   ]
  },
  {
   "cell_type": "markdown",
   "id": "d313f255",
   "metadata": {},
   "source": [
    "## Summary\n",
    "\n",
    "This notebook demonstrated:\n",
    "\n",
    "1. ✅ Basic Python operations\n",
    "2. ✅ Data analysis techniques\n",
    "3. ✅ List comprehensions and functions\n",
    "4. ✅ Dictionary operations\n",
    "5. ✅ Error handling\n",
    "\n",
    "### Next Steps:\n",
    "- Try creating your own cells\n",
    "- Experiment with different Python libraries\n",
    "- Use the keyboard shortcuts for efficient editing\n",
    "- Save and export your work\n",
    "\n",
    "---\n",
    "\n",
    "**Happy coding with Jupyter Web! 🚀**"
   ]
  }
 ],
 "metadata": {
  "language_info": {
   "name": "python"
  }
 },
 "nbformat": 4,
 "nbformat_minor": 5
}
