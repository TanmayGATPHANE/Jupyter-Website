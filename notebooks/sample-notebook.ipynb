{
  "cells": [
    {
      "cell_type": "markdown",
      "source": [
        "# Sample Jupyter Notebookkkkk",
        "This is a sample notebook to demonstrate the file loading functionality."
      ],
      "outputs": [
        {
          "text": "<h1>Sample Jupyter Notebookkkkk</h1><br>This is a sample notebook to demonstrate the file loading functionality."
        }
      ]
    },
    {
      "cell_type": "code",
      "source": [
        "# Import libraries",
        "import numpy as np",
        "import pandas as pd",
        "import matplotlib.pyplot as plt",
        "",
        "print(\"Welcome to the sample notebook!\")"
      ],
      "outputs": [
        {
          "text": "Welcome to the sample notebook!\n🔍 Current namespace variables: {'np': 'module', 'numpy': 'module', 'pd': 'module', 'pandas': 'module', 'plt': 'module', 'matplotlib': 'module', 'scipy': 'module'}\n\n[Executed in 0.1ms]"
        }
      ]
    },
    {
      "cell_type": "code",
      "source": [
        "# Create some sample data",
        "data = np.random.randn(1000)",
        "print(f\"Generated {len(data)} random numbers\")",
        "print(f\"Mean: {np.mean(data):.3f}\")",
        "print(f\"Std: {np.std(data):.3f}\")"
      ],
      "outputs": [
        {
          "text": "Generated 1000 random numbers\nMean: -0.034\nStd: 0.990\n🔍 Current namespace variables: {'np': 'module', 'numpy': 'module', 'pd': 'module', 'pandas': 'module', 'plt': 'module', 'matplotlib': 'module', 'scipy': 'module', 'data': 'ndarray'}\n\n[Executed in 0.4ms]"
        }
      ]
    },
    {
      "cell_type": "markdown",
      "source": [
        "## Data Visualization",
        "Let's create a simple histogram of our data."
      ],
      "outputs": [
        {
          "text": "<h2>Data Visualization</h2><br>Let's create a simple histogram of our data."
        }
      ]
    },
    {
      "cell_type": "code",
      "source": [
        "# Create histogram",
        "plt.figure(figsize=(10, 6))",
        "plt.hist(data, bins=50, alpha=0.7, color='blue', edgecolor='black')",
        "plt.title('Histogram of Random Data')",
        "plt.xlabel('Value')",
        "plt.ylabel('Frequency')",
        "plt.grid(True, alpha=0.3)",
        "plt.show()"
      ],
      "outputs": []
    }
  ],
  "metadata": {
    "kernelspec": {
      "display_name": "Python 3",
      "language": "python",
      "name": "python3"
    }
  },
  "nbformat": 4,
  "nbformat_minor": 4
}